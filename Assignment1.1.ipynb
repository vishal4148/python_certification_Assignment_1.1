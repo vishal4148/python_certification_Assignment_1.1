{
 "cells": [
  {
   "cell_type": "markdown",
   "id": "4f5a7fe8",
   "metadata": {},
   "source": [
    "## Find and read 20 interview questions for Data Types, Operators, Conditional Statements, Looping Statements, Functions."
   ]
  },
  {
   "cell_type": "code",
   "execution_count": null,
   "id": "32a812d7",
   "metadata": {},
   "outputs": [],
   "source": []
  },
  {
   "cell_type": "markdown",
   "id": "98025201",
   "metadata": {},
   "source": [
    "## 1) Data Types\n",
    "\n",
    "1) What are Data Types?\n",
    "\n",
    "2)Name four of the main data types in Python?\n",
    "\n",
    "3)Why are these data types known as Python’s core data types?\n",
    "\n",
    "4)What does immutable mean and what three types of Python core data types are considered immutable?\n"
   ]
  },
  {
   "cell_type": "code",
   "execution_count": null,
   "id": "eb8a7086",
   "metadata": {},
   "outputs": [],
   "source": []
  },
  {
   "cell_type": "markdown",
   "id": "35e8b6d9",
   "metadata": {},
   "source": [
    "## 2)Operators\n",
    "\n",
    "1) Name all the type of operators?\n",
    "\n",
    "2) What does % do? What is the difference between the / & //.\n",
    "\n",
    "3) What are the logical operators? How they work?\n",
    "\n",
    "4) What is the use of ** operator?"
   ]
  },
  {
   "cell_type": "code",
   "execution_count": null,
   "id": "6265a7a0",
   "metadata": {},
   "outputs": [],
   "source": []
  },
  {
   "cell_type": "markdown",
   "id": "17852c70",
   "metadata": {},
   "source": [
    "### 3)Conditional Statements\n",
    "1) Name the keyword which helps in writing code involves\n",
    "condition.\n",
    "\n",
    "2) Write the syntax of simple if statement.\n",
    "\n",
    "3) Is there any limit of statement that can appear under an if\n",
    "block?\n",
    "\n",
    "4) What signifies the end of a statement block or suite in\n",
    "Python?"
   ]
  },
  {
   "cell_type": "code",
   "execution_count": null,
   "id": "c8b35dff",
   "metadata": {},
   "outputs": [],
   "source": []
  },
  {
   "cell_type": "markdown",
   "id": "5cf19d95",
   "metadata": {},
   "source": [
    "## 4)Looping Statements\n",
    "1) What function can generate a list of numbers? \n",
    "\n",
    "2) Name the 2 keywords used for looping?\n",
    "\n",
    "3) What is the nested loops?\n",
    "\n",
    "4) What is continue, break, pass?"
   ]
  },
  {
   "cell_type": "code",
   "execution_count": null,
   "id": "3bfff132",
   "metadata": {},
   "outputs": [],
   "source": []
  },
  {
   "cell_type": "markdown",
   "id": "09436538",
   "metadata": {},
   "source": [
    "## 5)Functions\n",
    "1) Which keyword is used for function?\n",
    "\n",
    "2) Which of the following items are present in the function\n",
    "header?\n",
    "\n",
    "3) What does global keyword mean?\n",
    "\n",
    "4) What does local local variable mean?"
   ]
  },
  {
   "cell_type": "code",
   "execution_count": null,
   "id": "c02328d5",
   "metadata": {},
   "outputs": [],
   "source": []
  }
 ],
 "metadata": {
  "kernelspec": {
   "display_name": "Python 3 (ipykernel)",
   "language": "python",
   "name": "python3"
  },
  "language_info": {
   "codemirror_mode": {
    "name": "ipython",
    "version": 3
   },
   "file_extension": ".py",
   "mimetype": "text/x-python",
   "name": "python",
   "nbconvert_exporter": "python",
   "pygments_lexer": "ipython3",
   "version": "3.9.6"
  }
 },
 "nbformat": 4,
 "nbformat_minor": 5
}
